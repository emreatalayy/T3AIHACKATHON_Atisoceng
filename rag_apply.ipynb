{
 "cells": [
  {
   "cell_type": "code",
   "execution_count": 1,
   "metadata": {},
   "outputs": [],
   "source": [
    "from langchain.vectorstores.chroma import Chroma\n",
    "from langchain_huggingface import HuggingFaceEmbeddings"
   ]
  },
  {
   "cell_type": "code",
   "execution_count": 2,
   "metadata": {},
   "outputs": [
    {
     "name": "stderr",
     "output_type": "stream",
     "text": [
      "c:\\Users\\atala\\AppData\\Local\\Programs\\Python\\Python39\\lib\\site-packages\\sentence_transformers\\cross_encoder\\CrossEncoder.py:11: TqdmExperimentalWarning: Using `tqdm.autonotebook.tqdm` in notebook mode. Use `tqdm.tqdm` instead to force console mode (e.g. in jupyter console)\n",
      "  from tqdm.autonotebook import tqdm, trange\n",
      "c:\\Users\\atala\\AppData\\Local\\Programs\\Python\\Python39\\lib\\site-packages\\transformers\\tokenization_utils_base.py:1601: FutureWarning: `clean_up_tokenization_spaces` was not set. It will be set to `True` by default. This behavior will be depracted in transformers v4.45, and will be then set to `False` by default. For more details check this issue: https://github.com/huggingface/transformers/issues/31884\n",
      "  warnings.warn(\n",
      "C:\\Users\\atala\\AppData\\Local\\Temp\\ipykernel_24488\\536175622.py:3: LangChainDeprecationWarning: The class `Chroma` was deprecated in LangChain 0.2.9 and will be removed in 1.0. An updated version of the class exists in the langchain-chroma package and should be used instead. To use it run `pip install -U langchain-chroma` and import as `from langchain_chroma import Chroma`.\n",
      "  db = Chroma(persist_directory=CHROMA_PATH, embedding_function=embedding_function)\n"
     ]
    }
   ],
   "source": [
    "CHROMA_PATH = \"chroma\"\n",
    "embedding_function = HuggingFaceEmbeddings(model_name=\"sentence-transformers/all-MiniLM-L6-v2\")\n",
    "db = Chroma(persist_directory=CHROMA_PATH, embedding_function=embedding_function)"
   ]
  },
  {
   "cell_type": "code",
   "execution_count": 3,
   "metadata": {},
   "outputs": [],
   "source": [
    "query_text = \"Antalyada mağaralrı gezmek istiyorum. Nerelere gitmeliyim?\"\n",
    "results = db.similarity_search_with_relevance_scores(query_text, k=3)"
   ]
  },
  {
   "cell_type": "code",
   "execution_count": 4,
   "metadata": {},
   "outputs": [
    {
     "data": {
      "text/plain": [
       "[(Document(metadata={'start_index': 113752}, page_content='Dim Mağarası\\n\\nAlanya merkezinin 12 km. doğusunda bulunan Cebereis Dağı’nın yamacındadır. Dim Mağarası, Türkiye\\'nin en güzel mağaralarından biridir. Alanya\\'ya yakın olması ve çevrenin piknik yerleri ve ormanlarla kaplı olması nedeniyle ziyarete uygundur. Tarih öncesi ve tarihi devirlerde insanlar tarafından barınak olarak kullanılmasından dolayı çevre halkı tarafından \"Gâvurini Mağarası\" olarak adlandırılmıştır.'),\n",
       "  0.5057978554788396),\n",
       " (Document(metadata={'start_index': 112727}, page_content='en uzun süren ve en önemli iskânı Paleolitik Çağ ile ilgilidir. Klasik dönemlerdeki kullanım daha çok Adak Mağara (tapınak) niteliğinde olup, mağara alnı ve dış duvarları üzerinde Grekçe kitabe ve nişler bulunmaktadır. Karain Mağarası’nda yapılan kazılarda elde edilen arkeolojik buluntular, Antalya Müzesi’nde ve mağaranın hemen yakınında bulunan Karain Müzesi’nde sergilenmektedir. Mağara turizme açıktır.'),\n",
       "  0.5007446169297776),\n",
       " (Document(metadata={'start_index': 110633}, page_content='Antalya, mağara oluşumu bakımından oldukça zengin bir ilimiz olup, Toros dağ kuşağının eteklerinde kurulmuştur. Toros Dağları ana iskelet bakımından genellikle kireçtaşlarından (kalkerlerden) oluşmuştur. İldeki mağaraların büyük bir çoğunluğu da bu kireçtaşı formasyonları içinde gelişmiştir. Antalya’da yaklaşık 500 kadar mağara tespit edilmiştir. Bunlardan yalnızca birkaç tanesi uluslararası öneme sahiptir.'),\n",
       "  0.47904594417667135)]"
      ]
     },
     "execution_count": 4,
     "metadata": {},
     "output_type": "execute_result"
    }
   ],
   "source": [
    "results"
   ]
  },
  {
   "cell_type": "code",
   "execution_count": 5,
   "metadata": {},
   "outputs": [],
   "source": [
    "from langchain.prompts import ChatPromptTemplate\n",
    "\n",
    "PROMPT_TEMPLATE = \"\"\"\n",
    "Sen Antalya'yı ziyaret edecek bir turist için arkadaşça bir tonda konuşan yardımcı bir asistansın. Samimi ve rehber edici bir dil kullanarak soruları cevapla.\n",
    "\n",
    "Kullanıcının sorusu: {question}\n",
    "Turistin ilgi alanları ve mevcut durumu: {context}\n",
    "\n",
    "---\n",
    "Soruyu yanıtla ve turist için samimi bir öneride bulun.Kullanıcının sorusu: {question}\n",
    "\"\"\""
   ]
  },
  {
   "cell_type": "code",
   "execution_count": 6,
   "metadata": {},
   "outputs": [
    {
     "name": "stdout",
     "output_type": "stream",
     "text": [
      "Human: \n",
      "Sen Antalya'yı ziyaret edecek bir turist için arkadaşça bir tonda konuşan yardımcı bir asistansın. Samimi ve rehber edici bir dil kullanarak soruları cevapla.\n",
      "\n",
      "Kullanıcının sorusu: Antalyada mağaralrı gezmek istiyorum. Nerelere gitmeliyim?\n",
      "Turistin ilgi alanları ve mevcut durumu: Dim Mağarası\n",
      "\n",
      "Alanya merkezinin 12 km. doğusunda bulunan Cebereis Dağı’nın yamacındadır. Dim Mağarası, Türkiye'nin en güzel mağaralarından biridir. Alanya'ya yakın olması ve çevrenin piknik yerleri ve ormanlarla kaplı olması nedeniyle ziyarete uygundur. Tarih öncesi ve tarihi devirlerde insanlar tarafından barınak olarak kullanılmasından dolayı çevre halkı tarafından \"Gâvurini Mağarası\" olarak adlandırılmıştır.\n",
      "\n",
      "---\n",
      "\n",
      "en uzun süren ve en önemli iskânı Paleolitik Çağ ile ilgilidir. Klasik dönemlerdeki kullanım daha çok Adak Mağara (tapınak) niteliğinde olup, mağara alnı ve dış duvarları üzerinde Grekçe kitabe ve nişler bulunmaktadır. Karain Mağarası’nda yapılan kazılarda elde edilen arkeolojik buluntular, Antalya Müzesi’nde ve mağaranın hemen yakınında bulunan Karain Müzesi’nde sergilenmektedir. Mağara turizme açıktır.\n",
      "\n",
      "---\n",
      "\n",
      "Antalya, mağara oluşumu bakımından oldukça zengin bir ilimiz olup, Toros dağ kuşağının eteklerinde kurulmuştur. Toros Dağları ana iskelet bakımından genellikle kireçtaşlarından (kalkerlerden) oluşmuştur. İldeki mağaraların büyük bir çoğunluğu da bu kireçtaşı formasyonları içinde gelişmiştir. Antalya’da yaklaşık 500 kadar mağara tespit edilmiştir. Bunlardan yalnızca birkaç tanesi uluslararası öneme sahiptir.\n",
      "\n",
      "---\n",
      "Soruyu yanıtla ve turist için samimi bir öneride bulun.Kullanıcının sorusu: Antalyada mağaralrı gezmek istiyorum. Nerelere gitmeliyim?\n",
      "\n"
     ]
    }
   ],
   "source": [
    "context_text = \"\\n\\n---\\n\\n\".join([doc.page_content for doc, _score in results])\n",
    "prompt_template = ChatPromptTemplate.from_template(PROMPT_TEMPLATE)\n",
    "prompt = prompt_template.format(context=context_text, question=query_text)\n",
    "print(prompt)"
   ]
  },
  {
   "cell_type": "code",
   "execution_count": 7,
   "metadata": {},
   "outputs": [],
   "source": [
    "import json\n",
    "import requests"
   ]
  },
  {
   "cell_type": "code",
   "execution_count": 8,
   "metadata": {},
   "outputs": [],
   "source": [
    "url = \"https://inference2.t3ai.org/v1/completions\"\n",
    "\n",
    "payload = json.dumps({\n",
    "  \"model\": \"/home/ubuntu/hackathon_model_2/\",\n",
    "  \"prompt\": prompt,\n",
    "  \"temperature\": 0.01,\n",
    "  \"top_p\": 0.95,\n",
    "  \"max_tokens\": 1024,\n",
    "  \"repetition_penalty\": 1.1,\n",
    "  \"stop_token_ids\": [\n",
    "    128001,\n",
    "    128009\n",
    "  ],\n",
    "  \"skip_special_tokens\": True\n",
    "})"
   ]
  },
  {
   "cell_type": "code",
   "execution_count": 9,
   "metadata": {},
   "outputs": [],
   "source": [
    "headers = {\n",
    "  'Content-Type': 'application/json',\n",
    "}"
   ]
  },
  {
   "cell_type": "code",
   "execution_count": 10,
   "metadata": {},
   "outputs": [],
   "source": [
    "response = requests.post(url, headers=headers, data=payload)\n",
    "pretty_response = json.loads(response.text)"
   ]
  },
  {
   "cell_type": "code",
   "execution_count": 11,
   "metadata": {},
   "outputs": [
    {
     "data": {
      "text/plain": [
       "{'id': 'cmpl-5dfe3ae411dc4f4f9b2d2bdf639a9016',\n",
       " 'object': 'text_completion',\n",
       " 'created': 1725655781,\n",
       " 'model': '/home/ubuntu/hackathon_model_2/',\n",
       " 'choices': [{'index': 0,\n",
       "   'text': \"Turistin ilgi alanları ve mevcut durumu: Dim Mağarası\\n\\nDim Mağarası, Antalya'nın Alanya ilçesinde bulunur ve kesinlikle görülmeye değer bir doğal güzelliktir. Eğer sadece Dim Mağarası'nı görmek istiyorsanız, Alanya'daki otelinizden kolayca bir gün gezisi düzenleyebilirsiniz. Ancak Antalya bölgesindeki diğer muhteşem mağaraları keşfetmek isterseniz, size birkaç önerim var:\\n\\n1. **Karain Mağarası**: Bu mağara, Antalya şehir merkezine oldukça yakın ve tarih öncesinden kalma insan izleriyle dolu. Arkeolojiye merakınız varsa burası tam size göre!\\n\\n2. **İnsuyu Mağarası**: Burdur'un Bucak ilçesine bağlı olan İnsuyu Mağarası, Antalya'ya biraz uzak olsa da, yolculuğa değer. İçinde sarkıt ve dikitler bulunan bu mağara, aynı zamanda şifalı olduğuna inanılan su kaynaklarına sahip.\\n\\n3. **Zeytintaşı Mağarası**: Antalya'nın Serik ilçesinde bulunan Zeytintaşı Mağarası, içindeki damla taş sütunlarıyla ünlüdür. Doğanın sanatı burada gözler önüne seriliyor.\\n\\n4. **Damlataş Mağarası**: Alanya'da bulunan Damlataş Mağarası, hem doğal güzelliğiyle hem de astım hastalarına iyi geldiğine inanılan havasıyla bilinir.\\n\\nBu mağaralar, Antalya'nın doğal harikalarını keşfetmeniz için mükemmel fırsatlar sunuyor. Her biri kendine has özellikleri ve hikayeleriyle sizi büyüleyecek. İyi eğlenceler!\",\n",
       "   'logprobs': None,\n",
       "   'finish_reason': 'stop',\n",
       "   'stop_reason': 128009,\n",
       "   'prompt_logprobs': None}],\n",
       " 'usage': {'prompt_tokens': 480,\n",
       "  'total_tokens': 857,\n",
       "  'completion_tokens': 377}}"
      ]
     },
     "execution_count": 11,
     "metadata": {},
     "output_type": "execute_result"
    }
   ],
   "source": [
    "pretty_response"
   ]
  },
  {
   "cell_type": "code",
   "execution_count": 12,
   "metadata": {},
   "outputs": [
    {
     "data": {
      "text/plain": [
       "\"Turistin ilgi alanları ve mevcut durumu: Dim Mağarası\\n\\nDim Mağarası, Antalya'nın Alanya ilçesinde bulunur ve kesinlikle görülmeye değer bir doğal güzelliktir. Eğer sadece Dim Mağarası'nı görmek istiyorsanız, Alanya'daki otelinizden kolayca bir gün gezisi düzenleyebilirsiniz. Ancak Antalya bölgesindeki diğer muhteşem mağaraları keşfetmek isterseniz, size birkaç önerim var:\\n\\n1. **Karain Mağarası**: Bu mağara, Antalya şehir merkezine oldukça yakın ve tarih öncesinden kalma insan izleriyle dolu. Arkeolojiye merakınız varsa burası tam size göre!\\n\\n2. **İnsuyu Mağarası**: Burdur'un Bucak ilçesine bağlı olan İnsuyu Mağarası, Antalya'ya biraz uzak olsa da, yolculuğa değer. İçinde sarkıt ve dikitler bulunan bu mağara, aynı zamanda şifalı olduğuna inanılan su kaynaklarına sahip.\\n\\n3. **Zeytintaşı Mağarası**: Antalya'nın Serik ilçesinde bulunan Zeytintaşı Mağarası, içindeki damla taş sütunlarıyla ünlüdür. Doğanın sanatı burada gözler önüne seriliyor.\\n\\n4. **Damlataş Mağarası**: Alanya'da bulunan Damlataş Mağarası, hem doğal güzelliğiyle hem de astım hastalarına iyi geldiğine inanılan havasıyla bilinir.\\n\\nBu mağaralar, Antalya'nın doğal harikalarını keşfetmeniz için mükemmel fırsatlar sunuyor. Her biri kendine has özellikleri ve hikayeleriyle sizi büyüleyecek. İyi eğlenceler!\""
      ]
     },
     "execution_count": 12,
     "metadata": {},
     "output_type": "execute_result"
    }
   ],
   "source": [
    "pretty_response['choices'][0]['text']"
   ]
  },
  {
   "cell_type": "code",
   "execution_count": null,
   "metadata": {},
   "outputs": [],
   "source": []
  },
  {
   "cell_type": "code",
   "execution_count": null,
   "metadata": {},
   "outputs": [],
   "source": []
  }
 ],
 "metadata": {
  "kernelspec": {
   "display_name": "Python 3",
   "language": "python",
   "name": "python3"
  },
  "language_info": {
   "codemirror_mode": {
    "name": "ipython",
    "version": 3
   },
   "file_extension": ".py",
   "mimetype": "text/x-python",
   "name": "python",
   "nbconvert_exporter": "python",
   "pygments_lexer": "ipython3",
   "version": "3.9.13"
  }
 },
 "nbformat": 4,
 "nbformat_minor": 2
}
